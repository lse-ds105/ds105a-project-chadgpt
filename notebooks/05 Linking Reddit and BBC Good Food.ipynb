{
 "cells": [
  {
   "cell_type": "markdown",
   "metadata": {},
   "source": [
    "# ✅Step 5. Linking Reddit and BBC Good Food"
   ]
  },
  {
   "cell_type": "markdown",
   "metadata": {},
   "source": [
    "# 🎯0. Import libraries"
   ]
  },
  {
   "cell_type": "code",
   "execution_count": 1,
   "metadata": {},
   "outputs": [],
   "source": [
    "import requests               \n",
    "import pandas as pd\n",
    "from scrapy import Selector  \n",
    "from tqdm import tqdm\n",
    "from datetime import datetime\n",
    "import sys\n",
    "from plotnine import *\n",
    "import altair as alt\n",
    "\n",
    "\n",
    "from sentence_transformers import SentenceTransformer\n",
    "from sklearn.metrics.pairwise import cosine_similarity\n",
    "\n",
    "\n",
    "# Import our own modules\n",
    "sys.path.append(\"../scripts/\")\n",
    "import chadtools"
   ]
  },
  {
   "cell_type": "markdown",
   "metadata": {},
   "source": [
    "# 🎯1. Prepare GET requests for BBC GoodFood"
   ]
  },
  {
   "cell_type": "code",
   "execution_count": 2,
   "metadata": {},
   "outputs": [],
   "source": [
    "bbclink = 'https://www.bbcgoodfood.com/search?q='\n",
    "response = requests.get(bbclink)\n",
    "sel = Selector(text=response.text)\n",
    "links = []\n",
    "\n",
    "recipecards = sel.css('main div.search-results div.card__section.card__content a ::attr(href)').getall()\n",
    "links.extend(recipecards)  \n",
    "prefix = \"https://www.bbcgoodfood.com/recipes/\"\n",
    "final_links = [prefix + item for item in links] "
   ]
  },
  {
   "cell_type": "code",
   "execution_count": 3,
   "metadata": {},
   "outputs": [
    {
     "name": "stderr",
     "output_type": "stream",
     "text": [
      "100%|██████████| 10/10 [02:02<00:00, 12.24s/it]\n"
     ]
    },
    {
     "data": {
      "text/plain": [
       "10011"
      ]
     },
     "execution_count": 3,
     "metadata": {},
     "output_type": "execute_result"
    }
   ],
   "source": [
    "base_url = 'https://www.bbcgoodfood.com/search?q=&limit=1000&page='\n",
    "\n",
    "links = []\n",
    "for i in tqdm(range(1, 11)):\n",
    "    response = requests.get(base_url + str(i))\n",
    "    sel = Selector(text = response.text)\n",
    "    recipecards = sel.css('main div.search-results div.card__section.card__content a ::attr(href)').getall()\n",
    "    links.extend(recipecards)  \n",
    "\n",
    "prefix = \"https://www.bbcgoodfood.com/recipes/\"\n",
    "final_links = [prefix + item for item in links] \n",
    "\n",
    "len(final_links)"
   ]
  },
  {
   "cell_type": "markdown",
   "metadata": {},
   "source": [
    "## 🎯2. Scrape BBC GoodFood Recipes"
   ]
  },
  {
   "cell_type": "markdown",
   "metadata": {},
   "source": [
    "We will scrape all of BBC GoodFood's recipes and create a DataFrame containing the nutritional data of each of them, i.e. how much salt, fat, protein, etc. each recipe contains."
   ]
  },
  {
   "cell_type": "markdown",
   "metadata": {},
   "source": [
    "<div class=\"alert alert-warning\">\n",
    "    <strong>WARNING:</strong> This code block takes over 3 hours to run. For testing, use the pre-saved file <code>bbc_data.csv</code> in the next code block.\n",
    "</div>"
   ]
  },
  {
   "cell_type": "code",
   "execution_count": null,
   "metadata": {},
   "outputs": [],
   "source": [
    "session = requests.Session()\n",
    "\n",
    "def get_nutrition(url):\n",
    "    response2 = session.get(url)\n",
    "    sel2 = Selector(text=response2.text)\n",
    "    table = sel2.css('table.key-value-blocks.hidden-print.mt-xxs')\n",
    "    bbc = {}\n",
    "    bbc['bbcgf_title'] = sel2.css('h1.heading-1 ::text').get()\n",
    "    bbc['calories'] = table.css('td.key-value-blocks__value ::text').get()\n",
    "    bbc['salt'] = table.xpath('.//*[contains(text(), \"salt\")]/..').css('td.key-value-blocks__value ::text').get()\n",
    "    bbc['fat'] = table.xpath('.//*[contains(text(), \"fat\")]/..').css('td.key-value-blocks__value ::text').get()\n",
    "    bbc['sugars'] = table.xpath('.//*[contains(text(), \"sugars\")]/..').css('td.key-value-blocks__value ::text').get()\n",
    "    bbc['saturates'] = table.xpath('.//*[contains(text(), \"saturates\")]/..').css('td.key-value-blocks__value ::text').get()\n",
    "    bbc['carbs'] = table.xpath('.//*[contains(text(), \"carbs\")]/..').css('td.key-value-blocks__value ::text').get()\n",
    "    bbc['protein'] = table.xpath('.//*[contains(text(), \"protein\")]/..').css('td.key-value-blocks__value ::text').get()\n",
    "    bbc['fibre'] = table.xpath('.//*[contains(text(), \"fibre\")]/..').css('td.key-value-blocks__value ::text').get()\n",
    "    bbc['bbcgf_ratings_raw'] = sel2.css(\"div.rating__values span.sr-only ::text\").get()\n",
    "    return bbc\n",
    "\n",
    "bbc = [get_nutrition(url) for url in tqdm(final_links)]\n",
    "\n",
    "df_bbc = pd.DataFrame(bbc)\n",
    "df_bbc['bbcgf_ratings'] = df_bbc['bbcgf_ratings_raw'].str.extract(r'(\\d+\\.\\d+)').astype(float) / 5.0 \n",
    "df_bbc.head(10)"
   ]
  },
  {
   "cell_type": "markdown",
   "metadata": {},
   "source": [
    "### Save the data as a CSV file "
   ]
  },
  {
   "cell_type": "code",
   "execution_count": null,
   "metadata": {},
   "outputs": [],
   "source": [
    "df_bbc.to_csv('../data/bbc_data.csv', index=False)"
   ]
  },
  {
   "cell_type": "markdown",
   "metadata": {},
   "source": [
    "Save the data as HTML for website"
   ]
  },
  {
   "cell_type": "code",
   "execution_count": null,
   "metadata": {},
   "outputs": [],
   "source": [
    "df_bbc.head().to_html('../docs/bbc_data.html')"
   ]
  },
  {
   "cell_type": "markdown",
   "metadata": {},
   "source": [
    "### Read cleaned_posts_with_cuisine_and_ingredient_list.json and bbc_data.csv"
   ]
  },
  {
   "cell_type": "code",
   "execution_count": 6,
   "metadata": {},
   "outputs": [
    {
     "data": {
      "text/html": [
       "<div>\n",
       "<style scoped>\n",
       "    .dataframe tbody tr th:only-of-type {\n",
       "        vertical-align: middle;\n",
       "    }\n",
       "\n",
       "    .dataframe tbody tr th {\n",
       "        vertical-align: top;\n",
       "    }\n",
       "\n",
       "    .dataframe thead th {\n",
       "        text-align: right;\n",
       "    }\n",
       "</style>\n",
       "<table border=\"1\" class=\"dataframe\">\n",
       "  <thead>\n",
       "    <tr style=\"text-align: right;\">\n",
       "      <th></th>\n",
       "      <th>id</th>\n",
       "      <th>title</th>\n",
       "      <th>gpt_ingredients</th>\n",
       "      <th>cuisine</th>\n",
       "      <th>ingredient_comment</th>\n",
       "      <th>score</th>\n",
       "      <th>upvote_ratio</th>\n",
       "      <th>link_flair_text</th>\n",
       "      <th>author</th>\n",
       "      <th>created_utc</th>\n",
       "      <th>url</th>\n",
       "      <th>permalink</th>\n",
       "    </tr>\n",
       "  </thead>\n",
       "  <tbody>\n",
       "    <tr>\n",
       "      <th>1088</th>\n",
       "      <td>iz12pg</td>\n",
       "      <td>Ottolenghi's Baked Orzo w/Mozzarella</td>\n",
       "      <td>[olive oil, eggplant, carrots, celery, onion, ...</td>\n",
       "      <td>italian</td>\n",
       "      <td>Ingredients:\\n\\n* 7 Tablespoons olive oil\\n* 1...</td>\n",
       "      <td>23</td>\n",
       "      <td>0.839844</td>\n",
       "      <td>Fruit\\Vegetarian</td>\n",
       "      <td>BrinaElka</td>\n",
       "      <td>1600970345000</td>\n",
       "      <td>https://i.redd.it/l7osuhkcm4p51.jpg</td>\n",
       "      <td>https://reddit.com/r/recipes/comments/iz12pg/o...</td>\n",
       "    </tr>\n",
       "    <tr>\n",
       "      <th>1089</th>\n",
       "      <td>iw3wli</td>\n",
       "      <td>Mushroom Barley Stew with Crispy Oyster Mushrooms</td>\n",
       "      <td>[mushroom barley stew, neutral oil for frying,...</td>\n",
       "      <td>stew.</td>\n",
       "      <td>**Recipe here originally:** [**Easy Mushroom B...</td>\n",
       "      <td>2695</td>\n",
       "      <td>0.979980</td>\n",
       "      <td>Fruit\\Vegetarian</td>\n",
       "      <td>BushyEyes</td>\n",
       "      <td>1600565227000</td>\n",
       "      <td>https://i.redd.it/511qxuct57o51.jpg</td>\n",
       "      <td>https://reddit.com/r/recipes/comments/iw3wli/m...</td>\n",
       "    </tr>\n",
       "    <tr>\n",
       "      <th>1090</th>\n",
       "      <td>isunwt</td>\n",
       "      <td>Easy Tomato Risotto with Parmesan</td>\n",
       "      <td>[tomato risotto, ripe tomatoes, garlic, extra ...</td>\n",
       "      <td>italian</td>\n",
       "      <td>**Recipe here originally:** [**Easy Tomato Ris...</td>\n",
       "      <td>1801</td>\n",
       "      <td>0.990234</td>\n",
       "      <td>Fruit\\Vegetarian</td>\n",
       "      <td>BushyEyes</td>\n",
       "      <td>1600122747000</td>\n",
       "      <td>https://i.redd.it/0qb76yy3m6n51.jpg</td>\n",
       "      <td>https://reddit.com/r/recipes/comments/isunwt/e...</td>\n",
       "    </tr>\n",
       "  </tbody>\n",
       "</table>\n",
       "</div>"
      ],
      "text/plain": [
       "          id                                              title  \\\n",
       "1088  iz12pg               Ottolenghi's Baked Orzo w/Mozzarella   \n",
       "1089  iw3wli  Mushroom Barley Stew with Crispy Oyster Mushrooms   \n",
       "1090  isunwt                  Easy Tomato Risotto with Parmesan   \n",
       "\n",
       "                                        gpt_ingredients  cuisine  \\\n",
       "1088  [olive oil, eggplant, carrots, celery, onion, ...  italian   \n",
       "1089  [mushroom barley stew, neutral oil for frying,...    stew.   \n",
       "1090  [tomato risotto, ripe tomatoes, garlic, extra ...  italian   \n",
       "\n",
       "                                     ingredient_comment  score  upvote_ratio  \\\n",
       "1088  Ingredients:\\n\\n* 7 Tablespoons olive oil\\n* 1...     23      0.839844   \n",
       "1089  **Recipe here originally:** [**Easy Mushroom B...   2695      0.979980   \n",
       "1090  **Recipe here originally:** [**Easy Tomato Ris...   1801      0.990234   \n",
       "\n",
       "       link_flair_text     author    created_utc  \\\n",
       "1088  Fruit\\Vegetarian  BrinaElka  1600970345000   \n",
       "1089  Fruit\\Vegetarian  BushyEyes  1600565227000   \n",
       "1090  Fruit\\Vegetarian  BushyEyes  1600122747000   \n",
       "\n",
       "                                      url  \\\n",
       "1088  https://i.redd.it/l7osuhkcm4p51.jpg   \n",
       "1089  https://i.redd.it/511qxuct57o51.jpg   \n",
       "1090  https://i.redd.it/0qb76yy3m6n51.jpg   \n",
       "\n",
       "                                              permalink  \n",
       "1088  https://reddit.com/r/recipes/comments/iz12pg/o...  \n",
       "1089  https://reddit.com/r/recipes/comments/iw3wli/m...  \n",
       "1090  https://reddit.com/r/recipes/comments/isunwt/e...  "
      ]
     },
     "execution_count": 6,
     "metadata": {},
     "output_type": "execute_result"
    }
   ],
   "source": [
    "df_filtered = pd.read_json('../data/cleaned_posts_with_cuisine_and_ingredient_list.json', orient='records')\n",
    "df_filtered.tail(3)"
   ]
  },
  {
   "cell_type": "code",
   "execution_count": 7,
   "metadata": {},
   "outputs": [
    {
     "data": {
      "text/html": [
       "<div>\n",
       "<style scoped>\n",
       "    .dataframe tbody tr th:only-of-type {\n",
       "        vertical-align: middle;\n",
       "    }\n",
       "\n",
       "    .dataframe tbody tr th {\n",
       "        vertical-align: top;\n",
       "    }\n",
       "\n",
       "    .dataframe thead th {\n",
       "        text-align: right;\n",
       "    }\n",
       "</style>\n",
       "<table border=\"1\" class=\"dataframe\">\n",
       "  <thead>\n",
       "    <tr style=\"text-align: right;\">\n",
       "      <th></th>\n",
       "      <th>bbcgf_title</th>\n",
       "      <th>calories</th>\n",
       "      <th>salt</th>\n",
       "      <th>fat</th>\n",
       "      <th>sugars</th>\n",
       "      <th>saturates</th>\n",
       "      <th>carbs</th>\n",
       "      <th>protein</th>\n",
       "      <th>fibre</th>\n",
       "      <th>bbcgf_ratings_raw</th>\n",
       "      <th>bbcgf_ratings</th>\n",
       "    </tr>\n",
       "  </thead>\n",
       "  <tbody>\n",
       "    <tr>\n",
       "      <th>0</th>\n",
       "      <td>Chicken &amp; chorizo jambalaya</td>\n",
       "      <td>445.0</td>\n",
       "      <td>1.20</td>\n",
       "      <td>10.0</td>\n",
       "      <td>7.0</td>\n",
       "      <td>3.0</td>\n",
       "      <td>64.0</td>\n",
       "      <td>30.0</td>\n",
       "      <td>2.0</td>\n",
       "      <td>A star rating of 4.8 out of 5.</td>\n",
       "      <td>0.96</td>\n",
       "    </tr>\n",
       "    <tr>\n",
       "      <th>1</th>\n",
       "      <td>Lemon drizzle cake</td>\n",
       "      <td>399.0</td>\n",
       "      <td>0.30</td>\n",
       "      <td>21.0</td>\n",
       "      <td>33.0</td>\n",
       "      <td>13.0</td>\n",
       "      <td>50.0</td>\n",
       "      <td>5.0</td>\n",
       "      <td>1.0</td>\n",
       "      <td>A star rating of 4.7 out of 5.</td>\n",
       "      <td>0.94</td>\n",
       "    </tr>\n",
       "    <tr>\n",
       "      <th>2</th>\n",
       "      <td>Chilli con carne recipe</td>\n",
       "      <td>387.0</td>\n",
       "      <td>2.32</td>\n",
       "      <td>17.0</td>\n",
       "      <td>1.0</td>\n",
       "      <td>6.0</td>\n",
       "      <td>25.0</td>\n",
       "      <td>36.0</td>\n",
       "      <td>6.0</td>\n",
       "      <td>A star rating of 4.8 out of 5.</td>\n",
       "      <td>0.96</td>\n",
       "    </tr>\n",
       "    <tr>\n",
       "      <th>3</th>\n",
       "      <td>Best ever chocolate brownies recipe</td>\n",
       "      <td>150.0</td>\n",
       "      <td>0.10</td>\n",
       "      <td>9.0</td>\n",
       "      <td>12.0</td>\n",
       "      <td>5.0</td>\n",
       "      <td>15.0</td>\n",
       "      <td>2.0</td>\n",
       "      <td>1.0</td>\n",
       "      <td>A star rating of 4.8 out of 5.</td>\n",
       "      <td>0.96</td>\n",
       "    </tr>\n",
       "    <tr>\n",
       "      <th>4</th>\n",
       "      <td>Creamy courgette lasagne</td>\n",
       "      <td>405.0</td>\n",
       "      <td>1.36</td>\n",
       "      <td>21.0</td>\n",
       "      <td>13.0</td>\n",
       "      <td>8.0</td>\n",
       "      <td>38.0</td>\n",
       "      <td>18.0</td>\n",
       "      <td>4.0</td>\n",
       "      <td>A star rating of 4.6 out of 5.</td>\n",
       "      <td>0.92</td>\n",
       "    </tr>\n",
       "  </tbody>\n",
       "</table>\n",
       "</div>"
      ],
      "text/plain": [
       "                           bbcgf_title  calories  salt   fat  sugars  \\\n",
       "0          Chicken & chorizo jambalaya     445.0  1.20  10.0     7.0   \n",
       "1                   Lemon drizzle cake     399.0  0.30  21.0    33.0   \n",
       "2              Chilli con carne recipe     387.0  2.32  17.0     1.0   \n",
       "3  Best ever chocolate brownies recipe     150.0  0.10   9.0    12.0   \n",
       "4             Creamy courgette lasagne     405.0  1.36  21.0    13.0   \n",
       "\n",
       "   saturates  carbs  protein  fibre               bbcgf_ratings_raw  \\\n",
       "0        3.0   64.0     30.0    2.0  A star rating of 4.8 out of 5.   \n",
       "1       13.0   50.0      5.0    1.0  A star rating of 4.7 out of 5.   \n",
       "2        6.0   25.0     36.0    6.0  A star rating of 4.8 out of 5.   \n",
       "3        5.0   15.0      2.0    1.0  A star rating of 4.8 out of 5.   \n",
       "4        8.0   38.0     18.0    4.0  A star rating of 4.6 out of 5.   \n",
       "\n",
       "   bbcgf_ratings  \n",
       "0           0.96  \n",
       "1           0.94  \n",
       "2           0.96  \n",
       "3           0.96  \n",
       "4           0.92  "
      ]
     },
     "execution_count": 7,
     "metadata": {},
     "output_type": "execute_result"
    }
   ],
   "source": [
    "df_bbc = pd.read_csv('../data/bbc_data.csv')\n",
    "df_bbc.head()"
   ]
  },
  {
   "cell_type": "code",
   "execution_count": 8,
   "metadata": {},
   "outputs": [
    {
     "name": "stdout",
     "output_type": "stream",
     "text": [
      "<class 'pandas.core.frame.DataFrame'>\n",
      "RangeIndex: 10011 entries, 0 to 10010\n",
      "Data columns (total 11 columns):\n",
      " #   Column             Non-Null Count  Dtype  \n",
      "---  ------             --------------  -----  \n",
      " 0   bbcgf_title        10009 non-null  object \n",
      " 1   calories           9951 non-null   float64\n",
      " 2   salt               9942 non-null   float64\n",
      " 3   fat                9949 non-null   float64\n",
      " 4   sugars             9950 non-null   float64\n",
      " 5   saturates          9950 non-null   float64\n",
      " 6   carbs              9951 non-null   float64\n",
      " 7   protein            9950 non-null   float64\n",
      " 8   fibre              9946 non-null   float64\n",
      " 9   bbcgf_ratings_raw  10008 non-null  object \n",
      " 10  bbcgf_ratings      7740 non-null   float64\n",
      "dtypes: float64(9), object(2)\n",
      "memory usage: 860.4+ KB\n"
     ]
    }
   ],
   "source": [
    "df_bbc.info()"
   ]
  },
  {
   "cell_type": "markdown",
   "metadata": {},
   "source": [
    "Save a sample of the data as HTML for display on webpage"
   ]
  },
  {
   "cell_type": "code",
   "execution_count": 9,
   "metadata": {},
   "outputs": [],
   "source": [
    "df_bbc.head().to_html('../docs/bbc_data.html', render_links=True, index=False)"
   ]
  },
  {
   "cell_type": "markdown",
   "metadata": {},
   "source": [
    "## 🎯3. Merging the Reddit and BBC GoodFood dataframes "
   ]
  },
  {
   "cell_type": "markdown",
   "metadata": {},
   "source": [
    "How do we link the recipes from the two sites together? We use the following steps:\n",
    "1. Calculate cosine similarity between the recipes from the two sites\n",
    "2. If the cosine similarity is above our threshold (0.75), we consider the recipes to be the same.\n",
    "    1. If there are multiple recipes that are above our threshold, we select the one with the highest similarity.\n",
    "3. We then merge the two dataframes on the recipe title "
   ]
  },
  {
   "cell_type": "code",
   "execution_count": 10,
   "metadata": {},
   "outputs": [
    {
     "name": "stderr",
     "output_type": "stream",
     "text": [
      "C:\\Users\\Zicheng Liu\\AppData\\Local\\Temp\\ipykernel_19952\\3675221729.py:22: FutureWarning: Setting an item of incompatible dtype is deprecated and will raise in a future error of pandas. Value '['Sweet potato chips', 'Thai green chicken curry', 'Apple pretzels', 'Sweet & sour tofu', 'Brussels sprouts pad Thai', 'Fudgy brownies', 'Gooey s’mores cookies', 'Buffalo chicken', 'Prawn katsu burgers', 'Cinnamon rolls', 'Sweet potato, chickpea & chorizo hash', 'Mushroom risotto', 'Turmeric tea', 'Duck breasts with redcurrant & onion relish', 'Sugar cookies', 'Chicken & chorizo paella', 'Chilli & fennel frosted nuts', 'Leftover turkey & noodle soup', 'Nasi goreng (Indonesian stir-fried rice)', 'Homemade apple pie', 'Chicken, leek & brown rice stir-fry', 'Warm Thai chicken & noodle salad', 'Butternut squash and red pepper soup', 'Classic pasta e fagioli', 'Lemony prawn pasta', 'Creamy tomato soup', 'Stout-braised short ribs with horseradish & carrots', 'Lemon-spiced chicken with chickpeas', 'Beef & beer pie', 'Ramen with chicken bone broth, pork shoulder, soft-boiled egg & greens', 'Chicken soup', 'Oxtail stew', 'Chicken and vegetable soup', 'Butter biscuits', 'Veggie stir-fried noodles', 'Chicken with rice & peas', 'Apple jam', 'Sweet potato masala dosa with coconut raita', 'Red cabbage & pickled chilli slaw', 'Classic lasagne', 'Ginger chicken & green bean noodles', 'Creamy chicken stew', 'One-pot tomato orzo', 'Salmon noodle soup', 'French toast stuffed with banana & maple syrup', 'Vegan BBQ teriyaki tofu', 'Chicken soup', 'Sweet potatoes with mushrooms & rosemary', 'Chicken and vegetable soup', 'Thai coconut & veg broth', 'Tuna pasta salad', 'Honey & sriracha hot wings', 'Chicken pasta salad', 'Cream of chicken soup', 'Peanut butter chicken rice bowl', 'Cabbage with bacon & onions', 'Classic cheese scones', 'Crispy sesame fish burger with lime mayo', 'Leek & potato soup', 'Cheddar & sage scones', 'Classic potato salad', 'Miso & ginger prawn noodle salad', 'Basic mayonnaise', 'Maple, pecan & raisin oaty cookies', 'French toast', 'Ultimate sticky toffee pudding', 'Chilli chocolate cookies', 'Spanish chicken stew', 'Crab & corn cakes with chilli dipping sauce', 'Bubble & squeak', 'Thai chicken salad', 'Leek & potato soup', 'White fish with sesame noodles', 'Cheesy ham hock, spinach & ricotta lasagne', 'Roast pork & apples', 'One-pot vegan rice and beans', 'Lemon polenta cake', 'Korean-style prawn & spring onion pancake', 'Caribbean beef patties', 'Baked tomato, mozzarella & basil risotto', 'Spicy chicken with rice & beans', 'Thai chicken salad', 'Classic potato salad', 'Tofu curry', 'Vegetarian wraps', 'Thai fried rice with prawns & peas', 'Spicy sausage noodles', 'Baked tomato, mozzarella & basil risotto', 'Pot-roast loin of pork with celeriac, shallots & pancetta', 'Thai chicken salad', 'Mushroom & rice one-pot', 'Snickerdoodles', 'Sriracha & lime potato salad', 'Moroccan tomato & chickpea soup with couscous', 'Cajun chicken pasta', 'Mexican corn salad', 'Maple, pecan & raisin oaty cookies', 'Thai chicken salad', \"Goat's cheese salad with roasted beetroot\", 'Thai green curry', 'Flourless chocolate cake', 'Chewy almond macaroon biscuits', 'Crispy fried calamari & aïoli', 'Easy veggie red curry noodles', 'Ghanaian gravy', 'Christmas crinkle cookies', 'Chicken shawarma salad', 'Chicken gumbo', 'Strawberry panna cotta', 'Pineapple fried rice', 'Creamy beetroot hummus', 'Ultimate spaghetti carbonara recipe', 'Mushroom & sausage pasta', 'Chicken enchiladas', 'Banana & blueberry muffins', 'Chinese-style braised beef one-pot', 'One-pot chicken with braised vegetables', \"Pesto & goat's cheese risotto\", 'Thai chicken curry', 'Tuna pasta salad', 'Peanut lime salad', 'Chicken katsu curry burger', 'Baked chicken drumsticks', 'Creamy mushroom & spinach pasta', 'Apple pie bars', 'Sesame chicken noodles', 'Salmon pasta salad with lemon & capers', 'Mediterranean stuffed peppers', 'Cola chicken wings', 'Chocolate & hazelnut thumbprint cookies', 'Indian cucumber salad', 'Baked potatoes with spicy dhal', 'Pan-fried chicken in mushroom sauce', 'Roasted brussels sprouts with bacon & chestnuts', 'Thai beef curry', 'Beef stroganoff', 'Chocolate orange baked cheesecake', 'Honey & spice cookies', 'Chicken enchiladas', 'Spinach & artichoke filo pie', 'Chicken biryani bake', 'Chocolate-orange steamed pudding with chocolate sauce', 'Carrot patch cake', 'Lemon & buttermilk pound cake', 'Pineapple upside-down cake', 'Snowball cookies', 'Apple pie bars', 'Snickerdoodles', 'Chocolate mousse', 'Caramel cornflake brownies', 'Easy volcano cake', 'Pumpkin seed cookies', 'Red velvet cupcakes', 'Lemon curd', 'Lemon cheesecake (no-bake)', 'Chocolate hazelnut ice cream cheesecake', 'Strawberry & white chocolate mousse cake', 'Mini Egg cake', 'Easy chocolate bark', 'Polish apple cake (Szarlotka)', 'Churros', 'Rhubarb & custard tart', 'Chocolate cream pie', 'Chocolate cupcakes', 'Doughnut muffins', 'White chocolate berry cheesecake', 'Toffee apple cookies', 'Red velvet cookies', 'Easter egg blondies', 'Chocolate tiffin', 'Spiced poached pears in chocolate sauce', 'Oatmeal raisin cookies', 'Chocolate orange cupcakes', 'Chocolate sponge cake', 'Pistachio & cranberry cookies', 'Peanut butter & jam pudding', 'Bakewell cheesecake', 'Vanilla crème brûlée', 'Cinnamon rolls', 'Baileys cheesecake', 'Sugar-dusted vanilla shortbread', 'White chocolate truffles', 'Matcha & white chocolate blondies', 'Double ginger cookies', 'Gooey chocolate cherry cookies', 'Peanut butter cookies', 'Christmas crinkle cookies', 'White chocolate chip fudge', 'Almond & lemon meringue roulade', 'Chocolate peppermint mini rolls', 'Pineapple & rum cake', 'Fudgy brownies', 'Easy lemon layer cake', 'Zesty orange marzipan', 'Apple crisp', 'Peanut butter cookie cups', 'Pumpkin seed cookies', 'Ice cream scones', 'Pumpkin pie', 'Cinnamon cookies', 'Spooky Halloween marshmallow cheesecake', 'Meringue kisses & icicles', 'Pistachio cheesecake', 'Pineapple upside-down cake', 'Spooky spider cakes', 'Pistachio cheesecake', 'Orange & almond cupcakes', 'Banana cupcakes', 'Pumpkin cheesecake', 'Cake pops', 'Oatmeal raisin cookies', 'Fudgy brownies', 'Almond cake', 'White chocolate cheesecake', 'Baklava', 'Butterfly cupcakes', 'Double chocolate chip cookies', 'Blueberry cake with cream cheese frosting', 'Blueberry cheesecake', 'Gooey brownies', 'Double chocolate cheesecake', 'Healthy banana bread', 'Vanilla crème brûlée', 'Vanilla panna cotta', 'Classic Victoria sandwich recipe', 'Angel cake with meringue icing & strawberry ganache', 'Dark chocolate pudding with malted cream', 'Vanilla crème brûlée', 'Best ever chocolate brownies recipe', 'Homemade wedding cake', 'Easy pound cake', 'Christmas cookies', 'Plum & marzipan tart tatin', 'Chocolate chip hot cross buns', 'Edible cookie dough', 'Chocolate tart with crème fraîche & raspberries', 'Vegan lemon cake', 'Citrus grape cake', 'Salted caramel choc pots', 'White chocolate blondies', 'Coconut cake balls', 'Baklava', 'Vegan chocolate cake', 'Festive cookies for the freezer', 'Chocolate caramel cake', 'Crispy tofu', 'Christmas brownies', 'Raspberry jam doughnuts', 'Pumpkin cinnamon rolls', 'New York cheesecake', 'Nanaimo bars', 'Warm choc-orange tarts with orange ice cream', 'Sugared scones', 'Bakewell tart', 'Tiramisu cheesecake', 'Matcha madeleines', 'Chocolate brownie cake', 'Easy chocolate mousse', 'Pear & blackberry crumble with bay leaf custard', 'Lemon bars', 'Caramel cheesecake', 'Peanut butter jelly cookies', 'Strawberry cake', 'Irish coffee', 'Cinnamon cookies', 'Chia pudding', 'Strawberry cheesecake Eton mess', 'Peanut butter brownies', 'Strawberry cake', 'Pumpkin spice cupcakes', 'Quick seafood linguine', 'Chicken & chorizo ragu', 'Chicken pasta bake', 'Sausage & broccoli pasta', 'Creamy chicken pasta', 'Creamy chicken pasta', 'Kale pesto & chicken gnocchi', 'Pappardelle with sausage & fennel seed bolognese', 'Walnut & red pepper pesto pasta', 'Vegan kale pesto pasta', 'Pasta with creamy greens & lemon', 'Cheesy tuna pesto pasta', 'Sausage & broccoli pasta', 'Tajarin pasta with sage butter', 'Sausage pasta bake', 'Baked mushrooms with ricotta & pesto', 'Butternut squash & goat’s cheese spaghetti', 'Vegan mac and cheese', 'Meatball pasta bake (pasta al forno)', 'Pasta alla vodka', 'Spaghetti with fresh tomato sauce', 'Spaghetti with kale, chilli & crispy garlic oil', 'Ultimate spaghetti carbonara recipe', 'Classic lasagne', 'Bacon, spinach & gorgonzola pasta', 'Ricotta, broccoli & lemon penne', 'Tomato, courgette, cream & oregano pasta', 'Creamy linguine with ham, lemon & basil', 'Creamy chicken pasta', 'Chicken & pesto pasta', 'Sausage & mushroom ragu', 'Cajun chicken pasta', 'Honey-mustard chicken pasta', 'Creamy mushroom spaghetti', 'Pea fusilli with ham & mustard sauce', 'Lemon spaghetti with tuna & broccoli', 'Pasta alla norma', 'Pasta alla vodka', 'Mexican corn salad', 'Spinach & ricotta cannelloni', 'Chicken, lemon & ricotta meatballs with linguine', 'Ricotta dip with crushed tomatoes & bruschetta', 'Grilled lobster tails with lemon & herb butter', 'Spaghetti & meatballs', 'Pasta alla norma', 'Bucatini with mushrooms & sausage', 'Baked feta pasta', 'Wild garlic pesto', 'Chicken alfredo', 'Baked feta pasta', 'Vegan mac and cheese', 'Easy spaghetti Bolognese', 'Spicy seafood spaghetti', 'Melanzane lasagne', 'Winter salad', 'Tortellini with pesto & broccoli', 'Sausage, leek & fennel pasta', 'Pork Milanese with spaghetti', 'Creamy chicken pasta', 'Sausage & courgette rigatoni', 'Pasta alla vodka', 'Spicy clam & kale linguine', 'Easy pesto lasagne', 'Pumpkin risotto', 'Red lentil pasta with creamy tomato & pepper sauce', 'Ultimate spaghetti carbonara recipe', 'Easy meatloaf with spaghetti & tomato sauce', 'Baked meatballs', 'Rigatoni with spiced prawns, tomatoes & chorizo', 'Gnocchi cacio e pepe', 'Orzo & chickpea soup', 'Pea and ham hock soup', 'Gong bao chicken', 'Lemon chicken soup', 'Thai green curry roast chicken', 'Turkey meatballs in tomato & fennel sauce', 'Udon noodle soup', 'Beef mince & tomato ragu', 'Japanese-style chicken curry', 'Curried turkey noodle soup', 'Dumplings', 'Thai chicken curry', 'Duck breasts with redcurrant & onion relish', 'Sweet & sour chicken adobo', 'Butter chicken', 'Spicy beef taco bowl', 'Beef massaman curry', 'Creamy chicken & wild mushrooms', 'Mexican chicken & wild rice soup', 'Mexican chicken tortilla soup', 'Popcorn chicken', 'Green chicken & vegetable curry', 'Creamy chicken & mango curry', 'Spiced black bean & chicken soup with kale', 'Indian chicken salad', 'Thai red duck with sticky pineapple rice', 'Lemon chicken soup', 'Chicken & bacon cacciatore', 'Air fryer chicken wings', 'Turkey patty & roasted root salad with Parmesan dressing', 'Creamy pesto chicken', 'Coconut-crusted lime chicken', 'Roast chicken with peppers & feta', 'Turkey meatballs with citrus couscous', 'Cowboy chicken & bean stew', 'Chicken, red pepper & almond traybake', 'Creamy chicken pasta', 'Mushroom & potato soup', 'Chicken Provençal', 'PERi-PERi chicken Pilaf', 'Maple-glazed duck with orange & watercress', 'Chicken noodle soup', 'Udon noodle soup', 'Chicken & vegetable curry', 'Korean fried chicken burgers', 'Sichuan chicken wings', 'Baked turkey meatballs with broccoli & crispy potatoes', 'Summer chicken one-pot', 'Cajun spiced chicken with quinoa', 'Popcorn chicken', 'Tandoori-ish chicken with lime-pickled cucumber', 'Spinach & feta stuffed chicken', 'Prosciutto-wrapped chicken & leek terrine', 'Thai beef stir-fry', 'Thai chicken curry', 'Italian chicken with cream cheese & spinach', 'Chicken with roasted cauliflower', 'Beef massaman curry', 'Hoisin duck stir-fry', 'Spiced chicken kebabs with chopped salad & flatbreads', 'Mediterranean chicken with roasted vegetables', 'Cola chicken wings', 'Chicken & sweetcorn ramen', 'Pan-fried chicken in mushroom sauce', 'Roasted duck breast with plum sauce', 'Thai green curry roast chicken', 'Spicy chicken cacciatore', 'Creamy chicken & mango curry', 'Baked buffalo chicken wings', 'Chicken & sweetcorn ramen', 'Stuffed butternut squash', 'Chicken & bean enchiladas', 'Chilli-maple chicken wings', \"Valentine's Day cocktail\", 'Gimlet cocktail', 'Classic champagne cocktail', 'Strawberry milkshake', 'Strawberry milkshake', 'White hot chocolate', 'Mojito recipe', 'Matcha latte', 'Green breakfast smoothie', 'Eggnog', 'Strawberry mojito', 'Steak, ale & mushroom pie', 'Beef wellington', 'Steak, ale & mushroom pie', 'Greek chicken, rice & lemon soup', 'Tomato & oregano orzo with beef koftas', 'Beef & orange stir-fry', 'Beef & ginger stir-fry', 'Beef goulash', 'Spicy chicken kebabs', 'Beer-braised beef short ribs', 'Lemongrass beef stew with noodles', 'Greek lamb meatballs', 'Spicy vegetable fajitas', 'Mexican beef chilli', 'Lemongrass beef stew with noodles', 'Cottage pie', 'Chicken, lemon & ricotta meatballs with linguine', 'Beef wellington', 'Cowboy pie', 'Beef curry', 'Teriyaki steak with pak choi & noodles', 'Beef goulash', 'Beef stir-fry', 'Beef stroganoff', 'Spiced rice with beef', 'Shredded chicken', 'Oxtail stew', 'Beef stroganoff', 'Easy beef and broccoli', 'Quick chicken noodles', 'Mexican beef chilli', 'Spicy beef stew with beans & peppers', 'Chicken pad Thai', 'Pork chops with fruity red cabbage', 'Maple-mustard pulled pork', 'Spicy meatballs', 'Pork with pears', 'Mushroom & spinach risotto', 'Veggie stir-fried noodles', 'Korean sesame pork stir-fry', 'Lemon & rosemary pork with chickpea salad', 'Sweet & sour pork', 'Pork chops with fruity red cabbage', 'French bean & duck Thai curry', 'Sichuan-style pork & green bean stir-fry', 'Spicy pork bao buns', 'Chinese pork ribs', 'Vietnamese-style caramel pork', 'Char siu (Chinese BBQ pork)', 'Ginger beer chicken & ribs', 'Hoisin pork with garlic & ginger greens', 'Slow cooker pulled pork', 'Scotch eggs', 'Char siu (Chinese BBQ pork)', 'Baja avocado tacos with chipotle crema & pickled slaw', 'Sesame chicken noodles', 'Pork vindaloo', 'Rolled pork belly with herby apricot & honey stuffing', 'Leek & sage risotto with crisp bacon', 'Crisp Chinese pork belly', 'Crispy crackled pork belly with fennel & apple slaw', 'Cucumber soup', 'Fish with chilli, mango & lime salsa', 'Thai prawn, potato & vegetable curry', 'Seafood curry', 'Whole baked fish with watercress & chilli salsa', 'Prawn & chorizo quesadilla', 'Thai mussels & prawns', 'Seafood risotto', 'Baked cod with orzo & spicy sausage', 'Beer-battered fish tacos', 'Beetroot & blackberry cured salmon', 'One-pan chicken couscous', 'Sesame & ginger sushi bowls', 'Quick and easy fish stew', 'Pancetta-wrapped fish with lemony potatoes', 'Roasted cod with zingy beetroot salad', 'Family meals: Easy fish pie recipe', 'Salmon & prawns with dill & lime aïoli', 'Seafood risotto', 'Mussels in white wine sauce with garlic butter toasts', 'Seared scallops with flavoured greens', 'Indian spiced salmon', 'Fish tacos', 'Spaghetti with seafood velouté', 'Mussels in white wine sauce with garlic butter toasts', 'Linguine with tuna sauce', 'Chilli-lime chicken salad', 'Easy seafood chowder', 'Simple sushi', 'Cajun chicken gumbo', 'Thai fried prawn & pineapple rice', 'Salmon, avocado & cucumber salad', 'Crispy fried calamari & aïoli', 'One-pan salmon with roast asparagus', 'Tom yum (hot & sour) soup with prawns', 'Crispy coconut prawn tacos', 'Seafood paella', 'Freezer biscuits', 'Halloumi & pea salad', 'Pumpkin soup', 'Vegan pie', 'Thai carrot & radish salad', 'Chickpea & roasted parsnip curry', 'Vanilla crème brûlée', 'Grilled peach, chicken & feta salad', 'Vegetable balti', 'Summer pasta with peas & mint', 'Mushroom stroganoff', 'Stuffed mushrooms', 'Potato pancakes', 'Spinach & pepper frittata', 'Spicy stir-fried sprouts', 'Mango & green bean salad with honey & passion fruit dressing', 'Tofu stir-fry', 'Red cabbage & pickled chilli slaw', 'Cauliflower rice', 'Chana masala', 'Cauliflower curry', 'Crispy tofu', 'Creamy leek & bean soup', 'Lemongrass beef stew with noodles', 'Mushroom omelette', 'Pumpkin curry with chickpeas', 'Paneer korma', 'Sweet potato cakes with poached eggs', 'Vegetarian spring rolls', 'Pea, feta & quinoa spring rolls with roast tomato nam prik', 'Crispy pan-fried gnocchi', 'Vegan meatballs', 'Steamed bao buns', 'Chickpea salad', 'Saucy miso mushrooms with udon noodles', 'Easy quinoa stir-fry', 'Crispy tofu summer rolls with cashew dipping sauce', 'Egg-fried cauliflower rice with prawn cracker crumbs', 'Roasted sweet potato & carrot soup', 'Curried carrot & lentil soup', 'Tofu stir-fry', 'Creamy veggie korma', 'Vegetarian spring rolls', 'Puy lentils with smoked tofu', 'Red onion & chilli bhajis with mint & garlic raita', 'Grape jelly', 'Caramelised onion puff pastry tart', 'Tteokbokki (spicy rice cakes)', 'Leek & potato soup', 'Vegan butter', 'Tomato & chickpea curry', 'Sausage & butter bean stew', 'Mushroom soup', 'Crispy paneer, spinach & coconut curry', 'Wild mushroom, potato & pancetta gratin', 'Pea, mint & goat’s cheese quiche', 'Halloumi pasta', 'Raspberry & white chocolate scones', 'Halloumi salad with orange & mint', 'Curried carrot & lentil soup', 'Green bean salad', 'Chicken and vegetable soup', 'Kimchi sesame udon noodles', 'Beetroot risotto with feta', 'Avocado & cannellini bean dip', 'Smoky chilli con carne', 'Green shakshuka with harissa & crispy shallots', 'Pickled pineapple & sriracha grilled cheese', 'Cider & onion soup with cheese & apple toasts', 'Veggie meatballs with tomato courgetti', 'Samosa chaat', 'Baked tomato & mozzarella orzo', 'Easy baked tomato risotto']' has dtype incompatible with float64, please explicitly cast to a compatible dtype first.\n"
     ]
    },
    {
     "data": {
      "text/html": [
       "<div>\n",
       "<style scoped>\n",
       "    .dataframe tbody tr th:only-of-type {\n",
       "        vertical-align: middle;\n",
       "    }\n",
       "\n",
       "    .dataframe tbody tr th {\n",
       "        vertical-align: top;\n",
       "    }\n",
       "\n",
       "    .dataframe thead th {\n",
       "        text-align: right;\n",
       "    }\n",
       "</style>\n",
       "<table border=\"1\" class=\"dataframe\">\n",
       "  <thead>\n",
       "    <tr style=\"text-align: right;\">\n",
       "      <th></th>\n",
       "      <th>id</th>\n",
       "      <th>title</th>\n",
       "      <th>gpt_ingredients</th>\n",
       "      <th>cuisine</th>\n",
       "      <th>ingredient_comment</th>\n",
       "      <th>score</th>\n",
       "      <th>upvote_ratio</th>\n",
       "      <th>link_flair_text</th>\n",
       "      <th>author</th>\n",
       "      <th>created_utc</th>\n",
       "      <th>...</th>\n",
       "      <th>bbcgf_title</th>\n",
       "      <th>calories</th>\n",
       "      <th>salt</th>\n",
       "      <th>fat</th>\n",
       "      <th>sugars</th>\n",
       "      <th>saturates</th>\n",
       "      <th>carbs</th>\n",
       "      <th>protein</th>\n",
       "      <th>fibre</th>\n",
       "      <th>bbcgf_ratings</th>\n",
       "    </tr>\n",
       "  </thead>\n",
       "  <tbody>\n",
       "    <tr>\n",
       "      <th>1086</th>\n",
       "      <td>jcgb7j</td>\n",
       "      <td>Bitter gourd yogurt curry....with no bitternes...</td>\n",
       "      <td>[oil, bitter gourd, onion, green chillies, cur...</td>\n",
       "      <td>indian</td>\n",
       "      <td>Recipe.....\\n\\n[Short Video](https://youtu.be/...</td>\n",
       "      <td>8</td>\n",
       "      <td>0.660156</td>\n",
       "      <td>Fruit\\Vegetarian</td>\n",
       "      <td>PassionateHobbies</td>\n",
       "      <td>1602879492000</td>\n",
       "      <td>...</td>\n",
       "      <td>NaN</td>\n",
       "      <td>NaN</td>\n",
       "      <td>NaN</td>\n",
       "      <td>NaN</td>\n",
       "      <td>NaN</td>\n",
       "      <td>NaN</td>\n",
       "      <td>NaN</td>\n",
       "      <td>NaN</td>\n",
       "      <td>NaN</td>\n",
       "      <td>NaN</td>\n",
       "    </tr>\n",
       "    <tr>\n",
       "      <th>1087</th>\n",
       "      <td>jb5peu</td>\n",
       "      <td>Punjabi Aloo Samosa</td>\n",
       "      <td>[plain flour, carom seeds, salt, ghee, water, ...</td>\n",
       "      <td>indian</td>\n",
       "      <td>For video instruction follow this link: [http...</td>\n",
       "      <td>39</td>\n",
       "      <td>0.959961</td>\n",
       "      <td>Fruit\\Vegetarian</td>\n",
       "      <td>Pakladies</td>\n",
       "      <td>1602701494000</td>\n",
       "      <td>...</td>\n",
       "      <td>Samosa chaat</td>\n",
       "      <td>366.0</td>\n",
       "      <td>2.00</td>\n",
       "      <td>19.0</td>\n",
       "      <td>5.0</td>\n",
       "      <td>5.0</td>\n",
       "      <td>33.0</td>\n",
       "      <td>11.0</td>\n",
       "      <td>7.0</td>\n",
       "      <td>NaN</td>\n",
       "    </tr>\n",
       "    <tr>\n",
       "      <th>1088</th>\n",
       "      <td>iz12pg</td>\n",
       "      <td>Ottolenghi's Baked Orzo w/Mozzarella</td>\n",
       "      <td>[olive oil, eggplant, carrots, celery, onion, ...</td>\n",
       "      <td>italian</td>\n",
       "      <td>Ingredients:\\n\\n* 7 Tablespoons olive oil\\n* 1...</td>\n",
       "      <td>23</td>\n",
       "      <td>0.839844</td>\n",
       "      <td>Fruit\\Vegetarian</td>\n",
       "      <td>BrinaElka</td>\n",
       "      <td>1600970345000</td>\n",
       "      <td>...</td>\n",
       "      <td>Baked tomato &amp; mozzarella orzo</td>\n",
       "      <td>546.0</td>\n",
       "      <td>0.99</td>\n",
       "      <td>18.0</td>\n",
       "      <td>9.0</td>\n",
       "      <td>9.0</td>\n",
       "      <td>67.0</td>\n",
       "      <td>26.0</td>\n",
       "      <td>5.0</td>\n",
       "      <td>0.84</td>\n",
       "    </tr>\n",
       "    <tr>\n",
       "      <th>1089</th>\n",
       "      <td>iw3wli</td>\n",
       "      <td>Mushroom Barley Stew with Crispy Oyster Mushrooms</td>\n",
       "      <td>[mushroom barley stew, neutral oil for frying,...</td>\n",
       "      <td>stew.</td>\n",
       "      <td>**Recipe here originally:** [**Easy Mushroom B...</td>\n",
       "      <td>2695</td>\n",
       "      <td>0.979980</td>\n",
       "      <td>Fruit\\Vegetarian</td>\n",
       "      <td>BushyEyes</td>\n",
       "      <td>1600565227000</td>\n",
       "      <td>...</td>\n",
       "      <td>NaN</td>\n",
       "      <td>NaN</td>\n",
       "      <td>NaN</td>\n",
       "      <td>NaN</td>\n",
       "      <td>NaN</td>\n",
       "      <td>NaN</td>\n",
       "      <td>NaN</td>\n",
       "      <td>NaN</td>\n",
       "      <td>NaN</td>\n",
       "      <td>NaN</td>\n",
       "    </tr>\n",
       "    <tr>\n",
       "      <th>1090</th>\n",
       "      <td>isunwt</td>\n",
       "      <td>Easy Tomato Risotto with Parmesan</td>\n",
       "      <td>[tomato risotto, ripe tomatoes, garlic, extra ...</td>\n",
       "      <td>italian</td>\n",
       "      <td>**Recipe here originally:** [**Easy Tomato Ris...</td>\n",
       "      <td>1801</td>\n",
       "      <td>0.990234</td>\n",
       "      <td>Fruit\\Vegetarian</td>\n",
       "      <td>BushyEyes</td>\n",
       "      <td>1600122747000</td>\n",
       "      <td>...</td>\n",
       "      <td>Easy baked tomato risotto</td>\n",
       "      <td>411.0</td>\n",
       "      <td>1.30</td>\n",
       "      <td>NaN</td>\n",
       "      <td>3.0</td>\n",
       "      <td>6.0</td>\n",
       "      <td>65.0</td>\n",
       "      <td>14.0</td>\n",
       "      <td>3.0</td>\n",
       "      <td>0.90</td>\n",
       "    </tr>\n",
       "  </tbody>\n",
       "</table>\n",
       "<p>5 rows × 22 columns</p>\n",
       "</div>"
      ],
      "text/plain": [
       "          id                                              title  \\\n",
       "1086  jcgb7j  Bitter gourd yogurt curry....with no bitternes...   \n",
       "1087  jb5peu                                Punjabi Aloo Samosa   \n",
       "1088  iz12pg               Ottolenghi's Baked Orzo w/Mozzarella   \n",
       "1089  iw3wli  Mushroom Barley Stew with Crispy Oyster Mushrooms   \n",
       "1090  isunwt                  Easy Tomato Risotto with Parmesan   \n",
       "\n",
       "                                        gpt_ingredients  cuisine  \\\n",
       "1086  [oil, bitter gourd, onion, green chillies, cur...   indian   \n",
       "1087  [plain flour, carom seeds, salt, ghee, water, ...   indian   \n",
       "1088  [olive oil, eggplant, carrots, celery, onion, ...  italian   \n",
       "1089  [mushroom barley stew, neutral oil for frying,...    stew.   \n",
       "1090  [tomato risotto, ripe tomatoes, garlic, extra ...  italian   \n",
       "\n",
       "                                     ingredient_comment  score  upvote_ratio  \\\n",
       "1086  Recipe.....\\n\\n[Short Video](https://youtu.be/...      8      0.660156   \n",
       "1087   For video instruction follow this link: [http...     39      0.959961   \n",
       "1088  Ingredients:\\n\\n* 7 Tablespoons olive oil\\n* 1...     23      0.839844   \n",
       "1089  **Recipe here originally:** [**Easy Mushroom B...   2695      0.979980   \n",
       "1090  **Recipe here originally:** [**Easy Tomato Ris...   1801      0.990234   \n",
       "\n",
       "       link_flair_text             author    created_utc  ...  \\\n",
       "1086  Fruit\\Vegetarian  PassionateHobbies  1602879492000  ...   \n",
       "1087  Fruit\\Vegetarian          Pakladies  1602701494000  ...   \n",
       "1088  Fruit\\Vegetarian          BrinaElka  1600970345000  ...   \n",
       "1089  Fruit\\Vegetarian          BushyEyes  1600565227000  ...   \n",
       "1090  Fruit\\Vegetarian          BushyEyes  1600122747000  ...   \n",
       "\n",
       "                         bbcgf_title calories  salt   fat  sugars  saturates  \\\n",
       "1086                             NaN      NaN   NaN   NaN     NaN        NaN   \n",
       "1087                    Samosa chaat    366.0  2.00  19.0     5.0        5.0   \n",
       "1088  Baked tomato & mozzarella orzo    546.0  0.99  18.0     9.0        9.0   \n",
       "1089                             NaN      NaN   NaN   NaN     NaN        NaN   \n",
       "1090       Easy baked tomato risotto    411.0  1.30   NaN     3.0        6.0   \n",
       "\n",
       "      carbs  protein  fibre  bbcgf_ratings  \n",
       "1086    NaN      NaN    NaN            NaN  \n",
       "1087   33.0     11.0    7.0            NaN  \n",
       "1088   67.0     26.0    5.0           0.84  \n",
       "1089    NaN      NaN    NaN            NaN  \n",
       "1090   65.0     14.0    3.0           0.90  \n",
       "\n",
       "[5 rows x 22 columns]"
      ]
     },
     "execution_count": 10,
     "metadata": {},
     "output_type": "execute_result"
    }
   ],
   "source": [
    "df_reddit = df_filtered.copy()\n",
    "\n",
    "model = SentenceTransformer('sentence-transformers/all-mpnet-base-v2')\n",
    "similarity_threshold = 0.75\n",
    "merge_columns = ['bbcgf_title', 'calories', 'salt', 'fat', 'sugars', 'saturates', 'carbs', 'protein', 'fibre', 'bbcgf_ratings']\n",
    "\n",
    "# Encode titles using Sentence Transformer\n",
    "embeddings_reddit = model.encode(df_reddit['title'].tolist())\n",
    "embeddings_bbc = model.encode(df_bbc['bbcgf_title'].tolist())\n",
    "\n",
    "# Calculate cosine similarity matrix\n",
    "cosine_sim_matrix = cosine_similarity(embeddings_reddit, embeddings_bbc)\n",
    "\n",
    "# Find the indices and values of the maximum similarity in each row\n",
    "max_similarity_indices = cosine_sim_matrix.argmax(axis=1)\n",
    "max_similarity_values = cosine_sim_matrix.max(axis=1)\n",
    "\n",
    "# Mask indices where the similarity is below the threshold\n",
    "mask = max_similarity_values > similarity_threshold\n",
    "\n",
    "# Merge columns based on the max similarity\n",
    "df_reddit.loc[mask, merge_columns] = df_bbc.iloc[max_similarity_indices[mask]][merge_columns].values\n",
    "\n",
    "df_reddit.tail()"
   ]
  },
  {
   "cell_type": "markdown",
   "metadata": {},
   "source": [
    "We drop rows with no nutritional data to get a clean dataframe for further analysis."
   ]
  },
  {
   "cell_type": "code",
   "execution_count": 11,
   "metadata": {},
   "outputs": [
    {
     "name": "stdout",
     "output_type": "stream",
     "text": [
      "<class 'pandas.core.frame.DataFrame'>\n",
      "Index: 500 entries, 1 to 1088\n",
      "Data columns (total 22 columns):\n",
      " #   Column              Non-Null Count  Dtype  \n",
      "---  ------              --------------  -----  \n",
      " 0   id                  500 non-null    object \n",
      " 1   title               500 non-null    object \n",
      " 2   gpt_ingredients     500 non-null    object \n",
      " 3   cuisine             500 non-null    object \n",
      " 4   ingredient_comment  500 non-null    object \n",
      " 5   score               500 non-null    int64  \n",
      " 6   upvote_ratio        500 non-null    float64\n",
      " 7   link_flair_text     500 non-null    object \n",
      " 8   author              500 non-null    object \n",
      " 9   created_utc         500 non-null    int64  \n",
      " 10  url                 500 non-null    object \n",
      " 11  permalink           500 non-null    object \n",
      " 12  bbcgf_title         500 non-null    object \n",
      " 13  calories            500 non-null    float64\n",
      " 14  salt                500 non-null    float64\n",
      " 15  fat                 500 non-null    float64\n",
      " 16  sugars              500 non-null    float64\n",
      " 17  saturates           500 non-null    float64\n",
      " 18  carbs               500 non-null    float64\n",
      " 19  protein             500 non-null    float64\n",
      " 20  fibre               500 non-null    float64\n",
      " 21  bbcgf_ratings       500 non-null    float64\n",
      "dtypes: float64(10), int64(2), object(10)\n",
      "memory usage: 89.8+ KB\n"
     ]
    }
   ],
   "source": [
    "df_for_analysis = df_reddit.dropna(subset=merge_columns, how='any').copy()\n",
    "df_for_analysis.info()"
   ]
  },
  {
   "cell_type": "code",
   "execution_count": 12,
   "metadata": {},
   "outputs": [],
   "source": [
    "df_for_analysis.iloc[:, 13:] = df_for_analysis.iloc[:, 13:].astype(\"float16\")\n",
    "df_for_analysis[\"score\"] = df_for_analysis[\"score\"].astype(\"int16\")\n",
    "df_for_analysis[\"upvote_ratio\"] = df_for_analysis[\"upvote_ratio\"].astype(\"float16\")"
   ]
  },
  {
   "cell_type": "code",
   "execution_count": 13,
   "metadata": {},
   "outputs": [
    {
     "name": "stdout",
     "output_type": "stream",
     "text": [
      "<class 'pandas.core.frame.DataFrame'>\n",
      "Index: 500 entries, 1 to 1088\n",
      "Data columns (total 22 columns):\n",
      " #   Column              Non-Null Count  Dtype  \n",
      "---  ------              --------------  -----  \n",
      " 0   id                  500 non-null    object \n",
      " 1   title               500 non-null    object \n",
      " 2   gpt_ingredients     500 non-null    object \n",
      " 3   cuisine             500 non-null    object \n",
      " 4   ingredient_comment  500 non-null    object \n",
      " 5   score               500 non-null    int16  \n",
      " 6   upvote_ratio        500 non-null    float16\n",
      " 7   link_flair_text     500 non-null    object \n",
      " 8   author              500 non-null    object \n",
      " 9   created_utc         500 non-null    int64  \n",
      " 10  url                 500 non-null    object \n",
      " 11  permalink           500 non-null    object \n",
      " 12  bbcgf_title         500 non-null    object \n",
      " 13  calories            500 non-null    float64\n",
      " 14  salt                500 non-null    float64\n",
      " 15  fat                 500 non-null    float64\n",
      " 16  sugars              500 non-null    float64\n",
      " 17  saturates           500 non-null    float64\n",
      " 18  carbs               500 non-null    float64\n",
      " 19  protein             500 non-null    float64\n",
      " 20  fibre               500 non-null    float64\n",
      " 21  bbcgf_ratings       500 non-null    float64\n",
      "dtypes: float16(1), float64(9), int16(1), int64(1), object(10)\n",
      "memory usage: 84.0+ KB\n"
     ]
    }
   ],
   "source": [
    "df_for_analysis.info()"
   ]
  },
  {
   "cell_type": "code",
   "execution_count": 14,
   "metadata": {},
   "outputs": [
    {
     "data": {
      "text/html": [
       "<div>\n",
       "<style scoped>\n",
       "    .dataframe tbody tr th:only-of-type {\n",
       "        vertical-align: middle;\n",
       "    }\n",
       "\n",
       "    .dataframe tbody tr th {\n",
       "        vertical-align: top;\n",
       "    }\n",
       "\n",
       "    .dataframe thead th {\n",
       "        text-align: right;\n",
       "    }\n",
       "</style>\n",
       "<table border=\"1\" class=\"dataframe\">\n",
       "  <thead>\n",
       "    <tr style=\"text-align: right;\">\n",
       "      <th></th>\n",
       "      <th>id</th>\n",
       "      <th>title</th>\n",
       "      <th>gpt_ingredients</th>\n",
       "      <th>cuisine</th>\n",
       "      <th>ingredient_comment</th>\n",
       "      <th>score</th>\n",
       "      <th>upvote_ratio</th>\n",
       "      <th>link_flair_text</th>\n",
       "      <th>author</th>\n",
       "      <th>created_utc</th>\n",
       "      <th>...</th>\n",
       "      <th>bbcgf_title</th>\n",
       "      <th>calories</th>\n",
       "      <th>salt</th>\n",
       "      <th>fat</th>\n",
       "      <th>sugars</th>\n",
       "      <th>saturates</th>\n",
       "      <th>carbs</th>\n",
       "      <th>protein</th>\n",
       "      <th>fibre</th>\n",
       "      <th>bbcgf_ratings</th>\n",
       "    </tr>\n",
       "  </thead>\n",
       "  <tbody>\n",
       "    <tr>\n",
       "      <th>1</th>\n",
       "      <td>1ah8m5s</td>\n",
       "      <td>Thai Green Curry Chicken Satay</td>\n",
       "      <td>[chicken satay, homemade green curry paste, ve...</td>\n",
       "      <td>thai</td>\n",
       "      <td>You could use any curry paste you like. Do you...</td>\n",
       "      <td>49</td>\n",
       "      <td>0.879883</td>\n",
       "      <td>Recipe</td>\n",
       "      <td>butchec</td>\n",
       "      <td>1706893611000</td>\n",
       "      <td>...</td>\n",
       "      <td>Thai green chicken curry</td>\n",
       "      <td>257.0</td>\n",
       "      <td>0.600098</td>\n",
       "      <td>15.0</td>\n",
       "      <td>3.0</td>\n",
       "      <td>10.0</td>\n",
       "      <td>9.0</td>\n",
       "      <td>19.0</td>\n",
       "      <td>2.0</td>\n",
       "      <td>0.899902</td>\n",
       "    </tr>\n",
       "    <tr>\n",
       "      <th>4</th>\n",
       "      <td>1afoma3</td>\n",
       "      <td>Sweet and Sour Tofu</td>\n",
       "      <td>[tofu, ground black pepper, salt, cornstarch, ...</td>\n",
       "      <td>chinese</td>\n",
       "      <td>I love figuring out ways to make tofu deliciou...</td>\n",
       "      <td>59</td>\n",
       "      <td>0.890137</td>\n",
       "      <td>Recipe</td>\n",
       "      <td>parisrosaries</td>\n",
       "      <td>1706725321000</td>\n",
       "      <td>...</td>\n",
       "      <td>Sweet &amp; sour tofu</td>\n",
       "      <td>530.0</td>\n",
       "      <td>1.200195</td>\n",
       "      <td>17.0</td>\n",
       "      <td>18.0</td>\n",
       "      <td>2.0</td>\n",
       "      <td>75.0</td>\n",
       "      <td>15.0</td>\n",
       "      <td>8.0</td>\n",
       "      <td>0.819824</td>\n",
       "    </tr>\n",
       "    <tr>\n",
       "      <th>9</th>\n",
       "      <td>1acagoz</td>\n",
       "      <td>Chocolate Fudgy Brownie</td>\n",
       "      <td>[butter, dark chocolate, cocoa powder, white s...</td>\n",
       "      <td>american</td>\n",
       "      <td>Full Chocolate Fudgy Brownie recipe: https://w...</td>\n",
       "      <td>114</td>\n",
       "      <td>0.910156</td>\n",
       "      <td>Recipe</td>\n",
       "      <td>butchec</td>\n",
       "      <td>1706360858000</td>\n",
       "      <td>...</td>\n",
       "      <td>Fudgy brownies</td>\n",
       "      <td>1043.0</td>\n",
       "      <td>0.620117</td>\n",
       "      <td>62.0</td>\n",
       "      <td>76.0</td>\n",
       "      <td>35.0</td>\n",
       "      <td>105.0</td>\n",
       "      <td>14.0</td>\n",
       "      <td>6.0</td>\n",
       "      <td>0.859863</td>\n",
       "    </tr>\n",
       "    <tr>\n",
       "      <th>12</th>\n",
       "      <td>19d0wfc</td>\n",
       "      <td>Buffalo Chicken Tenders</td>\n",
       "      <td>[chicken tenderloins, flour, garlic powder, eg...</td>\n",
       "      <td>american</td>\n",
       "      <td>**Recipe here originally:** [**Buffalo Chicken...</td>\n",
       "      <td>275</td>\n",
       "      <td>0.970215</td>\n",
       "      <td>Recipe</td>\n",
       "      <td>BushyEyes</td>\n",
       "      <td>1705944195000</td>\n",
       "      <td>...</td>\n",
       "      <td>Buffalo chicken</td>\n",
       "      <td>520.0</td>\n",
       "      <td>7.398438</td>\n",
       "      <td>35.0</td>\n",
       "      <td>11.0</td>\n",
       "      <td>15.0</td>\n",
       "      <td>11.0</td>\n",
       "      <td>39.0</td>\n",
       "      <td>3.0</td>\n",
       "      <td>0.879883</td>\n",
       "    </tr>\n",
       "    <tr>\n",
       "      <th>13</th>\n",
       "      <td>1998zka</td>\n",
       "      <td>Prawn Katsu Baos</td>\n",
       "      <td>[kewpie, plain yoghurt, dill pickles, capers, ...</td>\n",
       "      <td>japanese</td>\n",
       "      <td>This one is high impact and a showstopper for ...</td>\n",
       "      <td>291</td>\n",
       "      <td>0.950195</td>\n",
       "      <td>Recipe</td>\n",
       "      <td>TheLuckiestDragon</td>\n",
       "      <td>1705528588000</td>\n",
       "      <td>...</td>\n",
       "      <td>Prawn katsu burgers</td>\n",
       "      <td>1070.0</td>\n",
       "      <td>2.800781</td>\n",
       "      <td>74.0</td>\n",
       "      <td>13.0</td>\n",
       "      <td>12.0</td>\n",
       "      <td>68.0</td>\n",
       "      <td>30.0</td>\n",
       "      <td>6.0</td>\n",
       "      <td>0.899902</td>\n",
       "    </tr>\n",
       "  </tbody>\n",
       "</table>\n",
       "<p>5 rows × 22 columns</p>\n",
       "</div>"
      ],
      "text/plain": [
       "         id                           title  \\\n",
       "1   1ah8m5s  Thai Green Curry Chicken Satay   \n",
       "4   1afoma3             Sweet and Sour Tofu   \n",
       "9   1acagoz         Chocolate Fudgy Brownie   \n",
       "12  19d0wfc         Buffalo Chicken Tenders   \n",
       "13  1998zka                Prawn Katsu Baos   \n",
       "\n",
       "                                      gpt_ingredients   cuisine  \\\n",
       "1   [chicken satay, homemade green curry paste, ve...      thai   \n",
       "4   [tofu, ground black pepper, salt, cornstarch, ...   chinese   \n",
       "9   [butter, dark chocolate, cocoa powder, white s...  american   \n",
       "12  [chicken tenderloins, flour, garlic powder, eg...  american   \n",
       "13  [kewpie, plain yoghurt, dill pickles, capers, ...  japanese   \n",
       "\n",
       "                                   ingredient_comment  score  upvote_ratio  \\\n",
       "1   You could use any curry paste you like. Do you...     49      0.879883   \n",
       "4   I love figuring out ways to make tofu deliciou...     59      0.890137   \n",
       "9   Full Chocolate Fudgy Brownie recipe: https://w...    114      0.910156   \n",
       "12  **Recipe here originally:** [**Buffalo Chicken...    275      0.970215   \n",
       "13  This one is high impact and a showstopper for ...    291      0.950195   \n",
       "\n",
       "   link_flair_text             author    created_utc  ...  \\\n",
       "1           Recipe            butchec  1706893611000  ...   \n",
       "4           Recipe      parisrosaries  1706725321000  ...   \n",
       "9           Recipe            butchec  1706360858000  ...   \n",
       "12          Recipe          BushyEyes  1705944195000  ...   \n",
       "13          Recipe  TheLuckiestDragon  1705528588000  ...   \n",
       "\n",
       "                 bbcgf_title calories      salt   fat  sugars  saturates  \\\n",
       "1   Thai green chicken curry    257.0  0.600098  15.0     3.0       10.0   \n",
       "4          Sweet & sour tofu    530.0  1.200195  17.0    18.0        2.0   \n",
       "9             Fudgy brownies   1043.0  0.620117  62.0    76.0       35.0   \n",
       "12           Buffalo chicken    520.0  7.398438  35.0    11.0       15.0   \n",
       "13       Prawn katsu burgers   1070.0  2.800781  74.0    13.0       12.0   \n",
       "\n",
       "    carbs  protein  fibre  bbcgf_ratings  \n",
       "1     9.0     19.0    2.0       0.899902  \n",
       "4    75.0     15.0    8.0       0.819824  \n",
       "9   105.0     14.0    6.0       0.859863  \n",
       "12   11.0     39.0    3.0       0.879883  \n",
       "13   68.0     30.0    6.0       0.899902  \n",
       "\n",
       "[5 rows x 22 columns]"
      ]
     },
     "execution_count": 14,
     "metadata": {},
     "output_type": "execute_result"
    }
   ],
   "source": [
    "df_for_analysis.head()"
   ]
  },
  {
   "cell_type": "code",
   "execution_count": 15,
   "metadata": {},
   "outputs": [],
   "source": [
    "df_for_analysis.to_json('../data/merged_data_for_analysis.json', orient='records', indent=4)"
   ]
  },
  {
   "cell_type": "markdown",
   "metadata": {},
   "source": [
    "Saving as html for website"
   ]
  },
  {
   "cell_type": "code",
   "execution_count": 16,
   "metadata": {},
   "outputs": [],
   "source": [
    "df_for_analysis.head().to_html('../docs/merged_data_for_analysis.html', render_links=True, index=False)"
   ]
  },
  {
   "cell_type": "markdown",
   "metadata": {},
   "source": [
    "## Analysis of merged Reddit and BBC Good Food data"
   ]
  },
  {
   "cell_type": "markdown",
   "metadata": {},
   "source": [
    "### Plotting histograms of BBC Good Food ratings against each flair \n",
    "Having obtained the user ratings from BBC Good Food, we can compare if there are any differences between the category of foods that are popular amongst Reddit vs BBC Good Food users. "
   ]
  },
  {
   "cell_type": "code",
   "execution_count": 17,
   "metadata": {},
   "outputs": [],
   "source": [
    "df_for_analysis = pd.read_json('../data/merged_data_for_analysis.json', orient='records')"
   ]
  },
  {
   "cell_type": "code",
   "execution_count": 18,
   "metadata": {},
   "outputs": [],
   "source": [
    "df_desserts = df_for_analysis[df_for_analysis['link_flair_text']=='Dessert']\n",
    "df_recipe = df_for_analysis[df_for_analysis['link_flair_text']=='Recipe']\n",
    "df_pasta = df_for_analysis[df_for_analysis['link_flair_text']=='Pasta']\n",
    "df_poultry = df_for_analysis[df_for_analysis['link_flair_text']=='Poultry']\n",
    "df_drink = df_for_analysis[df_for_analysis['link_flair_text']=='Drink']\n",
    "df_beef = df_for_analysis[df_for_analysis['link_flair_text']=='Beef']\n",
    "df_pork = df_for_analysis[df_for_analysis['link_flair_text']=='Pork']\n",
    "df_seafood = df_for_analysis[df_for_analysis['link_flair_text']=='Seafood']\n",
    "df_fruitveg = df_for_analysis[df_for_analysis['link_flair_text']=='Fruit\\Vegetarian']"
   ]
  },
  {
   "cell_type": "code",
   "execution_count": 20,
   "metadata": {},
   "outputs": [
    {
     "name": "stderr",
     "output_type": "stream",
     "text": [
      "c:\\Users\\Zicheng Liu\\.conda\\envs\\ds105\\lib\\site-packages\\plotnine\\ggplot.py:587: PlotnineWarning: Saving 6.4 x 4.8 in image.\n",
      "c:\\Users\\Zicheng Liu\\.conda\\envs\\ds105\\lib\\site-packages\\plotnine\\ggplot.py:588: PlotnineWarning: Filename: ../plots/Dessert_hist.png\n",
      "c:\\Users\\Zicheng Liu\\.conda\\envs\\ds105\\lib\\site-packages\\plotnine\\ggplot.py:587: PlotnineWarning: Saving 6.4 x 4.8 in image.\n",
      "c:\\Users\\Zicheng Liu\\.conda\\envs\\ds105\\lib\\site-packages\\plotnine\\ggplot.py:588: PlotnineWarning: Filename: ../plots/Recipe_hist.png\n",
      "c:\\Users\\Zicheng Liu\\.conda\\envs\\ds105\\lib\\site-packages\\plotnine\\ggplot.py:587: PlotnineWarning: Saving 6.4 x 4.8 in image.\n",
      "c:\\Users\\Zicheng Liu\\.conda\\envs\\ds105\\lib\\site-packages\\plotnine\\ggplot.py:588: PlotnineWarning: Filename: ../plots/Pasta_hist.png\n",
      "c:\\Users\\Zicheng Liu\\.conda\\envs\\ds105\\lib\\site-packages\\plotnine\\ggplot.py:587: PlotnineWarning: Saving 6.4 x 4.8 in image.\n",
      "c:\\Users\\Zicheng Liu\\.conda\\envs\\ds105\\lib\\site-packages\\plotnine\\ggplot.py:588: PlotnineWarning: Filename: ../plots/Poultry_hist.png\n",
      "c:\\Users\\Zicheng Liu\\.conda\\envs\\ds105\\lib\\site-packages\\plotnine\\ggplot.py:587: PlotnineWarning: Saving 6.4 x 4.8 in image.\n",
      "c:\\Users\\Zicheng Liu\\.conda\\envs\\ds105\\lib\\site-packages\\plotnine\\ggplot.py:588: PlotnineWarning: Filename: ../plots/Drink_hist.png\n",
      "c:\\Users\\Zicheng Liu\\.conda\\envs\\ds105\\lib\\site-packages\\plotnine\\ggplot.py:587: PlotnineWarning: Saving 6.4 x 4.8 in image.\n",
      "c:\\Users\\Zicheng Liu\\.conda\\envs\\ds105\\lib\\site-packages\\plotnine\\ggplot.py:588: PlotnineWarning: Filename: ../plots/Beef_hist.png\n",
      "c:\\Users\\Zicheng Liu\\.conda\\envs\\ds105\\lib\\site-packages\\plotnine\\ggplot.py:587: PlotnineWarning: Saving 6.4 x 4.8 in image.\n",
      "c:\\Users\\Zicheng Liu\\.conda\\envs\\ds105\\lib\\site-packages\\plotnine\\ggplot.py:588: PlotnineWarning: Filename: ../plots/Pork_hist.png\n",
      "c:\\Users\\Zicheng Liu\\.conda\\envs\\ds105\\lib\\site-packages\\plotnine\\ggplot.py:587: PlotnineWarning: Saving 6.4 x 4.8 in image.\n",
      "c:\\Users\\Zicheng Liu\\.conda\\envs\\ds105\\lib\\site-packages\\plotnine\\ggplot.py:588: PlotnineWarning: Filename: ../plots/Seafood_hist.png\n",
      "c:\\Users\\Zicheng Liu\\.conda\\envs\\ds105\\lib\\site-packages\\plotnine\\ggplot.py:587: PlotnineWarning: Saving 6.4 x 4.8 in image.\n",
      "c:\\Users\\Zicheng Liu\\.conda\\envs\\ds105\\lib\\site-packages\\plotnine\\ggplot.py:588: PlotnineWarning: Filename: ../plots/FruitVegetarian_hist.png\n"
     ]
    }
   ],
   "source": [
    "# plot a histogram of the bbc ratings for each flair category\n",
    "flair_names = ['Dessert', 'Recipe', 'Pasta', 'Poultry', 'Drink', 'Beef', 'Pork', 'Seafood', 'Fruit\\Vegetarian']\n",
    "\n",
    "for flair in flair_names:\n",
    "    plot = (\n",
    "        ggplot(df_for_analysis[df_for_analysis[\"link_flair_text\"] == flair], aes(x='bbcgf_ratings')) + \n",
    "        geom_histogram(binwidth=0.01, fill='#5c3da4') +\n",
    "        theme_matplotlib() + \n",
    "        ggtitle(f\"Frequency of {flair} posts by BBC Good Food ratings ratio\") +\n",
    "        theme(plot_title = element_text(weight='bold', color=\"black\")) +\n",
    "        theme(aspect_ratio=9/16)\n",
    "    )\n",
    "\n",
    "    plot.save(f\"../plots/{flair}_hist.png\".replace(\"\\\\\", \"\"), dpi=300) "
   ]
  },
  {
   "cell_type": "markdown",
   "metadata": {},
   "source": [
    "### Plot histogram of top 10 percent of BBC GoodFood recipes by website ratings"
   ]
  },
  {
   "cell_type": "code",
   "execution_count": 21,
   "metadata": {},
   "outputs": [
    {
     "name": "stderr",
     "output_type": "stream",
     "text": [
      "c:\\Users\\Zicheng Liu\\.conda\\envs\\ds105\\lib\\site-packages\\plotnine\\ggplot.py:587: PlotnineWarning: Saving 6.4 x 4.8 in image.\n",
      "c:\\Users\\Zicheng Liu\\.conda\\envs\\ds105\\lib\\site-packages\\plotnine\\ggplot.py:588: PlotnineWarning: Filename: ../plots/plot_top_10_percent_bbcgf.jpg\n",
      "c:\\Users\\Zicheng Liu\\.conda\\envs\\ds105\\lib\\site-packages\\mizani\\scale.py:210: FutureWarning: is_categorical_dtype is deprecated and will be removed in a future version. Use isinstance(dtype, CategoricalDtype) instead\n",
      "c:\\Users\\Zicheng Liu\\.conda\\envs\\ds105\\lib\\site-packages\\mizani\\scale.py:223: FutureWarning: is_categorical_dtype is deprecated and will be removed in a future version. Use isinstance(dtype, CategoricalDtype) instead\n"
     ]
    }
   ],
   "source": [
    "# Sort by 'upvote ratio' in descending order\n",
    "df_sorted = df_for_analysis.sort_values(by='bbcgf_ratings', ascending=False)\n",
    "\n",
    "# Calculate the number of rows for the top 10%\n",
    "top_10_percent = int(0.1 * len(df_sorted))\n",
    "\n",
    "# Take the top 10% of the DataFrame\n",
    "top_10_df = df_sorted.head(top_10_percent)\n",
    "\n",
    "ordered_flair_list = top_10_df['link_flair_text'].value_counts().index.tolist()\n",
    "# Plot a bar graph showing the number of posts from different flairs\n",
    "plot = (\n",
    "       ggplot(top_10_df, aes(x=\"link_flair_text\")) + \n",
    "       geom_bar(fill='#5c3da4') +\n",
    "       coord_flip() +\n",
    "       ggtitle(\"Top 10% of posts by BBC Good Food ratings\") +\n",
    "       scale_x_discrete(limits=top_10_df[\"link_flair_text\"].value_counts().index.tolist()[::-1]) +\n",
    "       theme(plot_title = element_text(weight='bold', color=\"black\")) +\n",
    "       theme(aspect_ratio=9/16)\n",
    "       )\n",
    "\n",
    "plot.save(f\"../plots/plot_top_10_percent_bbcgf.jpg\", format=\"jpg\", dpi=600)"
   ]
  },
  {
   "cell_type": "markdown",
   "metadata": {},
   "source": [
    "### Plotting an interactive scatter plot of calories against upvote ratio"
   ]
  },
  {
   "cell_type": "markdown",
   "metadata": {},
   "source": [
    "For easier visualisation, we combine the 'Poultry', 'Beef', 'Pork', 'Seafood' flairs into one flair titled 'Meats'."
   ]
  },
  {
   "cell_type": "code",
   "execution_count": 22,
   "metadata": {},
   "outputs": [],
   "source": [
    "df_for_altair = df_for_analysis.copy()\n",
    "\n",
    "df_for_altair['link_flair_text'].replace(['Poultry', 'Beef', 'Pork', 'Seafood'], 'Meats', inplace=True)"
   ]
  },
  {
   "cell_type": "code",
   "execution_count": 23,
   "metadata": {},
   "outputs": [
    {
     "name": "stderr",
     "output_type": "stream",
     "text": [
      "c:\\Users\\Zicheng Liu\\.conda\\envs\\ds105\\lib\\site-packages\\altair\\utils\\core.py:395: FutureWarning: the convert_dtype parameter is deprecated and will be removed in a future version.  Do ``ser.astype(object).apply()`` instead if you want ``convert_dtype=False``.\n",
      "c:\\Users\\Zicheng Liu\\.conda\\envs\\ds105\\lib\\site-packages\\altair\\utils\\core.py:395: FutureWarning: the convert_dtype parameter is deprecated and will be removed in a future version.  Do ``ser.astype(object).apply()`` instead if you want ``convert_dtype=False``.\n",
      "c:\\Users\\Zicheng Liu\\.conda\\envs\\ds105\\lib\\site-packages\\altair\\utils\\core.py:395: FutureWarning: the convert_dtype parameter is deprecated and will be removed in a future version.  Do ``ser.astype(object).apply()`` instead if you want ``convert_dtype=False``.\n"
     ]
    }
   ],
   "source": [
    "x_scale = alt.Scale(domain=(0.5, 1))\n",
    "colour_scale = alt.Scale(domain=['Dessert', 'Recipe', 'Pasta', 'Meats', 'Drink', 'Fruit\\\\Vegetarian'],\n",
    "                         range=['#41afaa', '#466eb4', '#00a0e1', '#e6a532', '#d7642c', '#af4b91'])\n",
    "\n",
    "selection = alt.selection_point(fields=['link_flair_text'], bind='legend')\n",
    "\n",
    "scatter = alt.Chart(df_for_altair, width=600, height=600).mark_circle().encode(\n",
    "    x=alt.X('upvote_ratio:Q', scale=x_scale, title='Upvote Ratio'),\n",
    "    y=alt.Y('calories:Q', title='Calories'), \n",
    "    color=alt.Color('link_flair_text:N', scale=colour_scale, legend=alt.Legend(title='Flair')),\n",
    "    tooltip=['title:N', 'upvote_ratio:Q', 'link_flair_text:N', 'calories:Q', 'salt:Q', 'fat:Q', 'sugars:Q', 'saturates:Q', 'carbs:Q', 'protein:Q', 'fibre:Q', 'permalink:N'],\n",
    "    opacity=alt.condition(selection, alt.value(1), alt.value(0.15)),\n",
    "    href='permalink:N'\n",
    ").add_params(\n",
    "    selection\n",
    ").properties(title='No clear correlation between the healthiness of a recipe and how well it is received on Reddit',\n",
    ").interactive()\n",
    "\n",
    "scatter.save('../docs/interactive_plot.html', scale_factor=2.0)"
   ]
  },
  {
   "cell_type": "markdown",
   "metadata": {},
   "source": [
    "We then plot an interactive scatter plot of reddit upvote ratios against BBC GoodFood ratings. Unsurprisingly, higher rated recipes on BBC GoodFood tend to have higher upvote ratios on Reddit."
   ]
  },
  {
   "cell_type": "code",
   "execution_count": 24,
   "metadata": {},
   "outputs": [
    {
     "name": "stderr",
     "output_type": "stream",
     "text": [
      "c:\\Users\\Zicheng Liu\\.conda\\envs\\ds105\\lib\\site-packages\\altair\\utils\\core.py:395: FutureWarning: the convert_dtype parameter is deprecated and will be removed in a future version.  Do ``ser.astype(object).apply()`` instead if you want ``convert_dtype=False``.\n",
      "c:\\Users\\Zicheng Liu\\.conda\\envs\\ds105\\lib\\site-packages\\altair\\utils\\core.py:395: FutureWarning: the convert_dtype parameter is deprecated and will be removed in a future version.  Do ``ser.astype(object).apply()`` instead if you want ``convert_dtype=False``.\n",
      "c:\\Users\\Zicheng Liu\\.conda\\envs\\ds105\\lib\\site-packages\\altair\\utils\\core.py:395: FutureWarning: the convert_dtype parameter is deprecated and will be removed in a future version.  Do ``ser.astype(object).apply()`` instead if you want ``convert_dtype=False``.\n"
     ]
    }
   ],
   "source": [
    "x_scale = alt.Scale(domain=(0.5, 1))\n",
    "y_scale = alt.Scale(domain=(0.5, 1))\n",
    "\n",
    "scatter = alt.Chart(df_for_altair, width=600, height=600).mark_circle().encode(\n",
    "    x=alt.X('upvote_ratio:Q', scale=x_scale, title='Upvote Ratio'),\n",
    "    y=alt.Y('bbcgf_ratings:Q', scale=y_scale, title='BBC Good Food Rating'),\n",
    "    tooltip=['title:N', 'upvote_ratio:Q', 'bbcgf_ratings:Q', 'permalink:N'],\n",
    "    href='permalink:N'\n",
    ").properties(title='Higher Reddit upvote ratios are generally associated with higher BBC Good Food ratings'\n",
    ").interactive()\n",
    "\n",
    "scatter.save('../docs/upvote_ratio_vs_bbcgf_rating.html', scale_factor=2.0) "
   ]
  },
  {
   "cell_type": "markdown",
   "metadata": {},
   "source": [
    "Further analysis of specific ingredients and cuisines will be done in the next notebook."
   ]
  }
 ],
 "metadata": {
  "kernelspec": {
   "display_name": "base",
   "language": "python",
   "name": "python3"
  },
  "language_info": {
   "codemirror_mode": {
    "name": "ipython",
    "version": 3
   },
   "file_extension": ".py",
   "mimetype": "text/x-python",
   "name": "python",
   "nbconvert_exporter": "python",
   "pygments_lexer": "ipython3",
   "version": "3.9.18"
  },
  "orig_nbformat": 4
 },
 "nbformat": 4,
 "nbformat_minor": 2
}
